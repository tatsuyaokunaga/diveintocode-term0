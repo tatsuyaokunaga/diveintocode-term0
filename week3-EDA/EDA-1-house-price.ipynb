{
 "cells": [
  {
   "cell_type": "markdown",
   "metadata": {
    "_cell_guid": "e3bc4854-2787-eae1-950d-2742ad3d7db2",
    "_uuid": "d507f816cc74a88c9afefd02cf225d1a7dd6461f"
   },
   "source": [
    "# PYTHONで包括的なデータ探索\n",
    "[Pedro Marcelino](http://pmarcelino.com) - February 2017\n",
    "\n",
    "\n",
    "----------"
   ]
  },
  {
   "cell_type": "markdown",
   "metadata": {
    "_cell_guid": "8ca352d7-08aa-36b4-fb2d-3c9854a8d86a",
    "_uuid": "014f5c099a26d9232f9d0d6ca85d5c02b812c98a"
   },
   "source": [
    "<b>'人生で最も難しいことは自分を知ることです'</b>  \n",
    "\n",
    "これはミレトスのタレスの言葉です。タレスは科学思想を楽しみ従事したとして知られた西洋文明で最初の人間として認識されたギリシャ・フェニキアの哲学者、数学者、天文学者でした。（出典：https://en.wikipedia.org/wiki/Thales）\n",
    "\n",
    "あなたのデータがデータサイエンスにおいて最も難しいことであるはいいたくはありませんが、時間はかかります。したがって、この最初のステップを見落としやすく、水の中にあまりにも早く飛び込みやすい。\n",
    "\n",
    "それで、私は水の中に飛び込む前に泳ぎ方を学ぶことにしました。Hair et al. (2013)の「あなたのデータを調べる」の章を参考にして、包括的であっても網羅的ではないデータ分析に従うよう最善を尽くしました。\n",
    "私はこのカーネルの厳格な研究についてリポートするどころか、コミュニティにとって有益であって欲しいと思っています。だからこれらのデータ分析の原則をこの問題にどうやって適用したのか共有しています。\n",
    "私が各章につけた奇妙な名前にもかかわらず、このカーネルでやっていることは次のようなものです："
   ]
  },
  {
   "cell_type": "markdown",
   "metadata": {
    "collapsed": true
   },
   "source": [
    "\n",
    "1. <b>問題を理解する</b>。 各変数を見て、その問題の意味と重要性についての哲学的分析を行います。\n",
    "2. <b>単変量研究</b>。 従属変数（ 'SalePrice'）に焦点を絞り、それについてもう少し詳しく知ろうとします。\n",
    "3. <b>多変量調査</b>。 従属変数と独立変数がどのように関連しているかを理解しようとします。\n",
    "4. <b>クリーニングの基本</b>。 データセットをクリーニングし、欠落しているデータ、外れ値およびカテゴリ変数を処理します。\n",
    "5. <b>仮定をテストする</b>。 私たちのデータが大部分の多変量解析技術で必要とされる仮定を満たしているかどうかを確認します。\n",
    "\n",
    "さあ、たのしんでね。\n",
    "\n",
    "※従属変数とはプログラミング言語において、演算結果に従って、値が変化する変数。 \n",
    "※独立変数とはプログラミング言語において、演算を行う際の条件となる変数。  \n",
    "※外れ値とはデータ解析上は，他の測定値から飛離れた値を意味する。  \n",
    "※カテゴリ変数とは性別、職業、配偶者の有無など、一般に数や量で測れない変数。  \n",
    "※単変量とはひとつの対象にデータが1つしかないデータのこと。  \n",
    "※多変量とはひとつの対象にデータが複数あるデータのこと。  \n"
   ]
  },
  {
   "cell_type": "markdown",
   "metadata": {},
   "source": [
    "### 下記のカーネルはライブラリをインポートしている\n",
    "pandas  \n",
    "matplotlib.pyplot  \n",
    "seaborn  \n",
    "numpy  \n",
    "scipy.stats  \n",
    "sklearn.preprocessingからStandardScaler  \n",
    "scipyからstats  \n",
    "warnings  \n",
    "warnings.filterwarnings('ignore')：警告フィルターで\t一致した警告を出力しない  \n",
    "%matplotlib inline：グラフ表示"
   ]
  },
  {
   "cell_type": "code",
   "execution_count": 1,
   "metadata": {
    "collapsed": true
   },
   "outputs": [],
   "source": [
    "#　kaggleパーティーに招待\n",
    "import pandas as pd\n",
    "import matplotlib.pyplot as plt\n",
    "import seaborn as sns\n",
    "import numpy as np\n",
    "from scipy.stats import norm\n",
    "from sklearn.preprocessing import StandardScaler\n",
    "from scipy import stats\n",
    "import warnings\n",
    "warnings.filterwarnings('ignore')\n",
    "%matplotlib inline"
   ]
  },
  {
   "cell_type": "markdown",
   "metadata": {},
   "source": [
    "### 下記のカーネルは「train.csv」をロードしている。\n",
    " \n",
    " "
   ]
  },
  {
   "cell_type": "markdown",
   "metadata": {
    "collapsed": true
   },
   "source": [
    "https://pandas.pydata.org/pandas-docs/stable/generated/pandas.read_csv.html\n",
    "CSVファイル「train.csv」をロードする関数"
   ]
  },
  {
   "cell_type": "code",
   "execution_count": 2,
   "metadata": {
    "_cell_guid": "d56d5e71-4277-7a74-5306-7d5af4c7f263",
    "_execution_state": "idle",
    "_uuid": "827a72128cd211cf6af16b003e7c09951e3f2b1e",
    "collapsed": false
   },
   "outputs": [],
   "source": [
    "#6つのパックを持ってくる\n",
    "df_train = pd.read_csv('../input/train.csv')"
   ]
  },
  {
   "cell_type": "markdown",
   "metadata": {
    "collapsed": true
   },
   "source": [
    "###  以下のメソッドはdf_trainのカラムの値を返す"
   ]
  },
  {
   "cell_type": "code",
   "execution_count": 3,
   "metadata": {
    "_cell_guid": "02250c81-7e15-c195-2e86-5adbd15c9d30",
    "_execution_state": "idle",
    "_uuid": "10814ba44786b5fea5e333324c6fe54729cabf33",
    "collapsed": false
   },
   "outputs": [
    {
     "data": {
      "text/plain": [
       "Index(['Id', 'MSSubClass', 'MSZoning', 'LotFrontage', 'LotArea', 'Street',\n",
       "       'Alley', 'LotShape', 'LandContour', 'Utilities', 'LotConfig',\n",
       "       'LandSlope', 'Neighborhood', 'Condition1', 'Condition2', 'BldgType',\n",
       "       'HouseStyle', 'OverallQual', 'OverallCond', 'YearBuilt', 'YearRemodAdd',\n",
       "       'RoofStyle', 'RoofMatl', 'Exterior1st', 'Exterior2nd', 'MasVnrType',\n",
       "       'MasVnrArea', 'ExterQual', 'ExterCond', 'Foundation', 'BsmtQual',\n",
       "       'BsmtCond', 'BsmtExposure', 'BsmtFinType1', 'BsmtFinSF1',\n",
       "       'BsmtFinType2', 'BsmtFinSF2', 'BsmtUnfSF', 'TotalBsmtSF', 'Heating',\n",
       "       'HeatingQC', 'CentralAir', 'Electrical', '1stFlrSF', '2ndFlrSF',\n",
       "       'LowQualFinSF', 'GrLivArea', 'BsmtFullBath', 'BsmtHalfBath', 'FullBath',\n",
       "       'HalfBath', 'BedroomAbvGr', 'KitchenAbvGr', 'KitchenQual',\n",
       "       'TotRmsAbvGrd', 'Functional', 'Fireplaces', 'FireplaceQu', 'GarageType',\n",
       "       'GarageYrBlt', 'GarageFinish', 'GarageCars', 'GarageArea', 'GarageQual',\n",
       "       'GarageCond', 'PavedDrive', 'WoodDeckSF', 'OpenPorchSF',\n",
       "       'EnclosedPorch', '3SsnPorch', 'ScreenPorch', 'PoolArea', 'PoolQC',\n",
       "       'Fence', 'MiscFeature', 'MiscVal', 'MoSold', 'YrSold', 'SaleType',\n",
       "       'SaleCondition', 'SalePrice'],\n",
       "      dtype='object')"
      ]
     },
     "execution_count": 3,
     "metadata": {},
     "output_type": "execute_result"
    }
   ],
   "source": [
    "#　装飾をチェック\n",
    "df_train.columns"
   ]
  },
  {
   "cell_type": "markdown",
   "metadata": {
    "_cell_guid": "79d22981-dfd7-a25f-9a78-5436213207e2",
    "_uuid": "ba13c267e3aacbef23dfbcc0ab05f002d7835e0c"
   },
   "source": [
    "# 1. それで何を期待できるの？\n",
    "\n",
    "私たちのデータを理解するためには、各変数を見て、その意味を理解し、この問題との関連性を調べようとすることができます。これは時間がかかることはわかっていますが、データセットの風味がわかります。\n",
    "\n",
    "私たちの分析にいくつかの規律を持たせるために、次の列を持つExcelスプレッドシートを作成することができます：\n"
   ]
  },
  {
   "cell_type": "markdown",
   "metadata": {},
   "source": [
    "* <b>変数</ b> - 変数名。\n",
    "* <b>タイプ</ b> - 変数のタイプの識別。このフィールドには、2つの値、 '数値'または 'カテゴリ'があります。 「数値」とは、値が数値である変数を意味し、「カテゴリ」とは、値がカテゴリである変数を意味する。\n",
    "* <b>セグメント</ b> - 変数のセグメントの識別。我々は、建物、空間、または場所の3つの可能なセグメントを定義することができます。 「建物」とは、建物の物理的特性に関連する変数（「OverallQual」など）を意味します。 「空間」とは、家の空間特性（「TotalBsmtSF」など）を報告する変数を意味します。最後に、「場所」とは、家がある場所に関する情報を提供する変数（例：'Neighborhood'）を意味します。\n",
    "* <b>期待</ b> - 「販売価格」の変動影響に関する当社の期待。可能な限りカテゴリを「高」、「中」、「低」として使用可能です。\n",
    "* <b>結論</ b> - 変数の重要性に関する結論は、データを素早く見ることです。私たちは、「期待」と同じカテゴリー的な尺度を維持することができます。\n",
    "* <b>コメント</ b> - 私たちに発生した一般的なコメント。"
   ]
  },
  {
   "cell_type": "markdown",
   "metadata": {},
   "source": [
    "「タイプ」と「セグメント」は将来の参照のためのものですが、「期待」という列は「第六の感覚」を養うため重要です。この列を埋めるには、すべての変数の説明を読み、1つずつ自問します。\n",
    "\n",
    "* 家を買っているときにこの変数について考えるか？ （たとえば、私たちの夢の家について考えるとき、「石造ベニアタイプ」を気にするのか？）。\n",
    "* もしそうなら、この変数はどれくらい重要だろうか？ （例えば、「貧しさ」の代わりに「素晴らしい」資材を外観にする場合の影響と、「良い」の代わりに「優れている」場合の影響は何なのか？）。\n",
    "* この情報はすでに他の変数に記述されているか？ （例えば、 'LandContour'がプロパティの平坦度を与える場合、実際に 'LandSlope'を知る必要がありますか？）\n",
    "\n",
    "この困難な演習の後、スプレッドシートをフィルタリングし、「高い」「期待」の変数を注意深く見ることができます。次に、ちょうど私たちの期待を修正する「結論」欄を埋めながら、それらの変数と「SalePrice」との間の散布図に突っ込むことが可能です。\n",
    "\n",
    "私はこのプロセスを経て、以下の変数がこの問題で重要な役割を果たすことができると結論づけました。\n",
    "\n",
    "* OverallQual（私はそれがどのように計算されたかわからないので好きではない変数です;面白いのは、利用可能な他のすべての変数を使って 'OverallQual'を予測することです）。\n",
    "* YearBuilt。\n",
    "* TotalBsmtSF。\n",
    "* GrLivArea。"
   ]
  },
  {
   "cell_type": "markdown",
   "metadata": {},
   "source": [
    "私は2つの '建物'の変数（「OverallQual」と「YearBuilt」）と2つの'空間'の変数（「TotalBsmtSF」と「GrLivArea」）で終わった。これは重要なことは「場所、場所、場所」の不動産のマントラに反するのでちょっと予想外かもしれません。この迅速なデータ検査プロセスは、カテゴリ変数には少し厳しい可能性があります。たとえば、「Neigborhood」変数の方が関連性が高いと予想していましたが、データ検査後にはそれを除外しました。\n",
    "おそらく、これは、箱ひげ図の代わりに、カテゴリ変数の視覚化に適している散布図を使用することに関連している可能性があります。私たちがデータを視覚化する方法は、しばしば結論に影響します。\n",
    "\n",
    "しかし、この演習の主なポイントは、私たちのデータと期待について少し考えることだったので、私たちは目標を達成したと思います。今度は「会話が少し少なくて、もう少し行動する」時です。  \n",
    "\n",
    "<b>そうしましょう！</b>"
   ]
  },
  {
   "cell_type": "markdown",
   "metadata": {
    "_cell_guid": "3ef87d93-0ea6-8cb2-aa2d-90d5b56a1ca1",
    "_uuid": "39d104c7e40b3f66a0f6e2330119332b301be7bf"
   },
   "source": [
    "# 2. まず第一に: '販売価格'の分析\n",
    "\n",
    "'販売価格'が私たちの探求の理由です。私たちがパーティーに行くときと同じです。すでにパーティーの場所にいる理由があります。いつも女性はその理由です。（免責事項：あなたの好みによって、男性、ダンス、アルコールにそれを適応させる）\n",
    "\n",
    "女性の類推を使うことで、ちょっとした物語を作りましょう。「'販売価格 'と私たちはいかに出会ったか」という物語です。\n",
    "ダンスパートナーを探していたとき、Kaggleパーティーですべてが始まりました。しばらくしてダンスフロアを探しているうちに、私たちはダンスシューズを履いているバーの近くの女の子を見かけました。それは彼女が踊るためにそこにいるサインだ。私たちは予測モデリングをしたり、分析コンテストに参加することに多くの時間をついやしているので、女の子と話すことはスーパーパワーの一つではなかった。それでも、私たちは試してみました。\n",
    "「やあ、僕はカギー、君は？　'販売価格'？ 美しい名前だね！'販売価格'ですよね、君についてのデータをいくつかくれますか？私は、2人の関係がうまくいく確率を計算するためのモデルを開発しました。私はそれを私たちに適用したいです！」"
   ]
  },
  {
   "cell_type": "markdown",
   "metadata": {},
   "source": [
    "### 下記のカーネルは「SalePrice」カラムの数値データに対して各種統計量を計算いている。"
   ]
  },
  {
   "cell_type": "code",
   "execution_count": 4,
   "metadata": {
    "_cell_guid": "54452e23-f4d3-919f-c734-80a35dc9ae08",
    "_execution_state": "idle",
    "_uuid": "5c15e1bd10b8e71c0b1d62bdb260882585a35579",
    "collapsed": false
   },
   "outputs": [
    {
     "data": {
      "text/plain": [
       "count      1460.000000\n",
       "mean     180921.195890\n",
       "std       79442.502883\n",
       "min       34900.000000\n",
       "25%      129975.000000\n",
       "50%      163000.000000\n",
       "75%      214000.000000\n",
       "max      755000.000000\n",
       "Name: SalePrice, dtype: float64"
      ]
     },
     "execution_count": 4,
     "metadata": {},
     "output_type": "execute_result"
    }
   ],
   "source": [
    "#記述統計概要\n",
    "df_train['SalePrice'].describe()"
   ]
  },
  {
   "cell_type": "markdown",
   "metadata": {
    "_cell_guid": "6af460e5-1be2-6618-d624-2a4423bd501f",
    "_uuid": "bb3005e8025ea75b0b4d1ef624927e7e21833ea1"
   },
   "source": [
    "* 'まあまあ...あなたの最低価格はゼロよりも大きいようです。 すばらしい！ あなたは私のモデルを破壊する個人的な特性を1つも持っていません！ 私に写真を送ってもらえますか？ 私は知らない...ビーチであなたのような人を...またはジムでの自撮りかも？ '*"
   ]
  },
  {
   "cell_type": "markdown",
   "metadata": {},
   "source": [
    "### 下記のカーネルは「SalePrice」カラムのヒストグラムとカーネル密度推定による確率密度関数を表示している。\n",
    "\n",
    "https://seaborn.pydata.org/generated/seaborn.distplot.html"
   ]
  },
  {
   "cell_type": "code",
   "execution_count": 5,
   "metadata": {
    "_cell_guid": "6bbea362-77b6-5385-f0a8-fb53afd088b7",
    "_execution_state": "idle",
    "_uuid": "2f78c77caa7290298138caf167672e62d3bc5a67",
    "collapsed": false,
    "scrolled": true
   },
   "outputs": [
    {
     "data": {
      "image/png": "[encoded data removed]",
      "text/plain": [
       "<matplotlib.figure.Figure at 0x105a73080>"
      ]
     },
     "metadata": {},
     "output_type": "display_data"
    }
   ],
   "source": [
    "#ヒストグラム\n",
    "sns.distplot(df_train['SalePrice']);"
   ]
  },
  {
   "cell_type": "markdown",
   "metadata": {},
   "source": [
    "#### <考察> 上のヒストグラムから'SalePrice'の100000〜200000に集中していることがわかる"
   ]
  },
  {
   "cell_type": "markdown",
   "metadata": {
    "_cell_guid": "f4e257f0-1dfd-0774-b346-f2a1b2a068cc",
    "_uuid": "f84e60c8b934615e53af10823558fe42753ac25d"
   },
   "source": [
    "'ああ！ あなたが外出時にはシーボーン化粧品を使っているのがわかります...とても上品ですね！ 私もあなただとわかります：\n",
    "\n",
    "* *正規分布から逸脱している*\n",
    "* *正の歪みがあります。*\n",
    "* *ピークを表示する *\n",
    "\n",
    "*これは面白いです！ 'SalePrice'、あなたの体のサイズを教えてくれますか？ '*\n",
    "\n",
    "<b>※正規分布とは以下の特徴を持つものです</b>\n",
    "\n",
    "-平均値と最頻値と中央値が一致する。  \n",
    "-平均値を中心にして左右対称である。（直線x=μ(平均値)に関して対称）  \n",
    "-x軸が漸近線である。  \n",
    "-分散（標準偏差）が大きくなると、曲線の山は低くなり、左右に広がって平らになる。分散（標準偏差）が小さくなると、山は高くなり、よりとんがった形になる。"
   ]
  },
  {
   "cell_type": "markdown",
   "metadata": {},
   "source": [
    "### 下記のカーネルは'SalePrice'の歪度と、尖度を計算\n",
    "\n",
    "https://pandas.pydata.org/pandas-docs/stable/generated/pandas.DataFrame.skew.html\n",
    "https://pandas.pydata.org/pandas-docs/stable/generated/pandas.DataFrame.kurt.html\n",
    "\n",
    "skew():歪度を計算  \n",
    "kurt() :尖度を計算"
   ]
  },
  {
   "cell_type": "code",
   "execution_count": 6,
   "metadata": {
    "_cell_guid": "36766737-f1a3-fe40-dbec-63c31be4d5e0",
    "_execution_state": "idle",
    "_uuid": "2cb253768dcd75b9a450ee264626ce69c808096a",
    "collapsed": false
   },
   "outputs": [
    {
     "name": "stdout",
     "output_type": "stream",
     "text": [
      "Skewness: 1.882876\n",
      "Kurtosis: 6.536282\n"
     ]
    }
   ],
   "source": [
    "#　歪度と尖度\n",
    "\n",
    "print(\"Skewness: %f\" % df_train['SalePrice'].skew())\n",
    "print(\"Kurtosis: %f\" % df_train['SalePrice'].kurt())"
   ]
  },
  {
   "cell_type": "markdown",
   "metadata": {
    "_cell_guid": "7a3e43cc-5b75-0b49-1ad2-426d10d7fb42",
    "_uuid": "c984e32d4d10b1e6766c1b79ed8ade9a57529ffb"
   },
   "source": [
    "'素晴らしい！ 私の愛しい計算機が正しい場合、私たちの成功確率は97.834657％です。 私たちは再び会うべきだと思う！ 私の電話番号を控えて、次の金曜日にひまなら私に電話をしてください。 しばらくさようなら、クロコダイルさん！ '"
   ]
  },
  {
   "cell_type": "markdown",
   "metadata": {
    "_cell_guid": "c477edc1-b472-f55b-ba98-514159dbda2e",
    "_uuid": "e0368771327b15853b3e306f39eb93d209594e75"
   },
   "source": [
    "# 'SalePrice', 彼女の仲間と彼女の興味\n"
   ]
  },
  {
   "cell_type": "markdown",
   "metadata": {
    "_cell_guid": "b02d4be5-ef2c-bd5c-ff71-2c790b3637ce",
    "_uuid": "c6edbfb50a21f4c94052f86f6926cfdc35e7ca22"
   },
   "source": [
    "あなたが戦う地形を選ぶのは軍事的な知恵です。 「SalePrice」が去ってからすぐ、Facebookに行きました。 はい、今深刻になっています。 ストーカーではないことに注意してください。 私が何を意味するのか知っていれば、それはちょっとした個人的激しい研究です。\n",
    "\n",
    "彼女のプロフィールによれば、私たちは何人か共通の友人がいる。 チャック・ノリスのほかに、私たちは両方とも「GrLivArea」と「TotalBsmtSF」を知っています。 さらに、「OverallQual」や「YearBuilt」などの共通の関心事も持っています。 これは有望に見える！\n",
    "\n",
    "私たちの研究を最大限に活用するために、私たちは共通の友人のプロフィールを慎重に見ることを始め、後で共通の興味に焦点を当てるつもりです。\n"
   ]
  },
  {
   "cell_type": "markdown",
   "metadata": {
    "_cell_guid": "73c1a953-aafd-96f6-c7bd-e2c79b3e5a0b",
    "_uuid": "08e034d70ed14ef0c4fb8cc1e9dd9e15f0d1c996"
   },
   "source": [
    "### 数値変数との関係"
   ]
  },
  {
   "cell_type": "markdown",
   "metadata": {},
   "source": [
    "### 下記のメソッドは'SalePrice'と'GrLivArea'　の散布図を作成\n",
    "pd.concat（）で、'SalePrice'と、'GrLivArea'を列方向に連結しdataに格納  \n",
    "plot.scatter（）でdataをｘ座標 'GrLivArea'、y座標'SalePrice'の散布図で表示"
   ]
  },
  {
   "cell_type": "code",
   "execution_count": 7,
   "metadata": {
    "_cell_guid": "db040973-0adc-e126-e657-1d8934b5a5c8",
    "_execution_state": "idle",
    "_uuid": "91160363898f5caeee965a1aa81eb3abb7dcd760",
    "collapsed": false,
    "scrolled": false
   },
   "outputs": [
    {
     "data": {
      "image/png": "[encoded data removed]",
      "text/plain": [
       "<matplotlib.figure.Figure at 0x113bc66a0>"
      ]
     },
     "metadata": {},
     "output_type": "display_data"
    }
   ],
   "source": [
    "#散布図 grlivarea/saleprice\n",
    "\n",
    "var = 'GrLivArea'\n",
    "data = pd.concat([df_train['SalePrice'], df_train[var]], axis=1)\n",
    "data.plot.scatter(x=var, y='SalePrice', ylim=(0,800000));"
   ]
  },
  {
   "cell_type": "markdown",
   "metadata": {},
   "source": [
    "#### <考察>　上の散布図から'SalePrice'の100000〜300000の間に点が集中していることがわかる"
   ]
  },
  {
   "cell_type": "markdown",
   "metadata": {
    "_cell_guid": "c3dccb06-206a-20c0-6060-8d5b49f4df0b",
    "_uuid": "6775955416e9b2d4ac43e3fec5685c8577138455"
   },
   "source": [
    "うーん、「SalePrice」と「GrLivArea」は本当に古い友達で、線形関係です。\n",
    "\n",
    "'TotalBsmtSF'はどうですか？"
   ]
  },
  {
   "cell_type": "markdown",
   "metadata": {},
   "source": [
    "### 下記のメソッドは'SalePrice'と 'TotalBsmtSF'　の散布図を作成\n",
    "\n",
    "varに'TotalBsmtSF'を代入  \n",
    "pd.concat（）で、df_train['SalePrice']と、df_train[var]を列方向に連結しdataに代入  \n",
    "plot.scatter（）でdataをｘ座標 'TotalBsmtSF'、y座標'SalePrice'の散布図で表示"
   ]
  },
  {
   "cell_type": "code",
   "execution_count": null,
   "metadata": {
    "_cell_guid": "353def35-0f26-998d-b9a4-7356f95e80ad",
    "_execution_state": "idle",
    "_uuid": "3ac3db51311338fcdc16014a7c506cf3d5315af7",
    "collapsed": false
   },
   "outputs": [
    {
     "data": {
      "image/png": "[encoded data removed]",
      "text/plain": [
       "<matplotlib.figure.Figure at 0x113e30978>"
      ]
     },
     "metadata": {},
     "output_type": "display_data"
    }
   ],
   "source": [
    "#　散布図totalbsmtsf/saleprice\n",
    "var = 'TotalBsmtSF'\n",
    "data = pd.concat([df_train['SalePrice'], df_train[var]], axis=1)\n",
    "data.plot.scatter(x=var, y='SalePrice', ylim=(0,800000));"
   ]
  },
  {
   "cell_type": "markdown",
   "metadata": {},
   "source": [
    " #### <考察>　上の散布図から'SalePrice'の100000〜300000の間に点が集中しているが、'GrLivArea'との関係よりも点の密度が高く見える"
   ]
  },
  {
   "cell_type": "markdown",
   "metadata": {
    "_cell_guid": "7ea69b90-de6d-c104-ff92-a49943993930",
    "_uuid": "4496c7d3635636e8e19296f3b5b52fdba16f7cc5"
   },
   "source": [
    "「TotalBsmtSF」もまた「SalePrice」の素晴らしい友人ですが、これははるかに情的関係に見えます！ すべてが大丈夫です。突然、強い線形（指数関数的？）反応で、すべてが変化します。\n",
    "さらに、時には「TotalBsmtSF」が「SalePrice」にゼロクレジットを与えることもあります。"
   ]
  },
  {
   "cell_type": "markdown",
   "metadata": {
    "_cell_guid": "b31bc890-46bf-618c-e668-17879763ad23",
    "_uuid": "5550d4df3c0ad48d8b2b9b0905f17daa3fc8d244"
   },
   "source": [
    "### カテゴリの特徴との関係"
   ]
  },
  {
   "cell_type": "markdown",
   "metadata": {},
   "source": [
    " ### 下記のカーネルは'SalePrice'と'OverallQual'の箱ひげ図を作成\n",
    " \n",
    " var に'OverallQual'を代入し\n",
    "df_train['SalePrice']とdf_train[var]を列方向に連結しdataに代入　　\n",
    "plt.subplots:　　\n",
    ">https://matplotlib.org/api/_as_gen/matplotlib.pyplot.subplots.html　　\n",
    "\n",
    "f, ax = plt.subplots(figsize=(8, 6))：プロットするグラフのサイズを設定。figsize=(8, 6)はデフォルトの図のサイズで数字はインチ。  \n",
    "sns.boxplot:箱ひげプロットをおこなう。'OverallQual'をx軸に\"SalePrice\"をy軸に設定しプロットのためのデータセットはdataとしfigに格納　　\n",
    ">https://seaborn.pydata.org/generated/seaborn.boxplot.html　　　　\n",
    "\n",
    "y軸の最小値０、最大値を800000に設定し表示\n"
   ]
  },
  {
   "cell_type": "code",
   "execution_count": null,
   "metadata": {
    "_cell_guid": "26d0fddc-cb09-af7d-9f03-a07233fa6c9e",
    "_execution_state": "idle",
    "_uuid": "e2b7aaccc3486a74a09996289a833ffb6acd0764",
    "collapsed": false,
    "scrolled": false
   },
   "outputs": [],
   "source": [
    "#　箱ひげ図 overallqual/saleprice\n",
    "var = 'OverallQual'\n",
    "data = pd.concat([df_train['SalePrice'], df_train[var]], axis=1)\n",
    "f, ax = plt.subplots(figsize=(8, 6))\n",
    "fig = sns.boxplot(x=var, y=\"SalePrice\", data=data)\n",
    "fig.axis(ymin=0, ymax=800000);"
   ]
  },
  {
   "cell_type": "markdown",
   "metadata": {},
   "source": [
    "#### <考察>　上の箱ひげ図から'OverallQual'の値と'SalePrice'が比例していることがわかる"
   ]
  },
  {
   "cell_type": "markdown",
   "metadata": {
    "_cell_guid": "49c33fb5-fce0-e852-7f31-2d0da20f7b16",
    "_uuid": "463ae72c67dfa50524f9b2c89427dbcd4b7bd856"
   },
   "source": [
    "*すべてのかわいい女の子のように、「SalePrice」は「OverallQual」を楽しんでいます。 \n",
    "\n",
    "自己へのメモ：マクドナルドが初デートに適しているかどうかを検討する*"
   ]
  },
  {
   "cell_type": "markdown",
   "metadata": {},
   "source": [
    "### 下記のカーネルは'YearBuilt'と'SalePrice'との箱ひげ図を作成\n",
    "var に'YearBuilt'を代入  \n",
    "次にdf_train['SalePrice']とdf_train[var]を列方向に連結しdataに格納。\n",
    "figsize=(8, 6)で出力するグラフのサイズを指定。\n",
    "sns.boxplot(x=var, y=\"SalePrice\", data=data)でx軸 'YearBuilt'、y軸\"SalePrice\"の箱ひげプロットを行う 。データセットはdata。  \n",
    "y軸の最小値０、最大値を800000に設定し表示  \n",
    "x軸のラベルを90度回転して表示\n"
   ]
  },
  {
   "cell_type": "code",
   "execution_count": null,
   "metadata": {
    "_cell_guid": "590da500-3e48-7059-4f0b-1ef1801dd1db",
    "_execution_state": "idle",
    "_uuid": "a78c64aeed1e48aa453ae4b7deef172cb2060b39",
    "collapsed": false
   },
   "outputs": [],
   "source": [
    "var = 'YearBuilt'\n",
    "data = pd.concat([df_train['SalePrice'], df_train[var]], axis=1)\n",
    "f, ax = plt.subplots(figsize=(16, 8))\n",
    "fig = sns.boxplot(x=var, y=\"SalePrice\", data=data)\n",
    "fig.axis(ymin=0, ymax=800000);\n",
    "plt.xticks(rotation=90);"
   ]
  },
  {
   "cell_type": "markdown",
   "metadata": {},
   "source": [
    "#### <考察>箱ひげ図から大恐慌時代は販売価格が低く範囲が狭いことがわかる。近年は価格の上昇と販売価格の範囲が広がっている傾向があることがわかる。"
   ]
  },
  {
   "cell_type": "markdown",
   "metadata": {
    "_cell_guid": "ad19b4d2-cb40-2e10-c6ee-913a0d5a6618",
    "_uuid": "22f458a1252d0eed8bbd6f0d0b56508033e228bd"
   },
   "source": [
    "*強い傾向ではありませんが、私は 'SalePrice'が古い遺物よりも新しいものにもっとお金を使いやすい傾向があると言えます。\n",
    "\n",
    "<b>注</b>：「SalePrice」が一定価格であるかどうかはわかりません。 一定の価格はインフレの影響を取り除こうとします。 'SalePrice'が一定価格でない場合、そうあるべきなので、価格でなければならないので、価格は年を経て比較します。"
   ]
  },
  {
   "cell_type": "markdown",
   "metadata": {
    "_cell_guid": "9d2f4940-ee0c-edef-769d-65fead4f06f3",
    "_uuid": "1dc93d788b3cd2446afa41e7c06d05c6bbadb480"
   },
   "source": [
    "### 要約すると\n",
    "\n",
    "ストーリーはさておき、次のように結論づけることができます：\n",
    "\n",
    "* 'GrLivArea'と 'TotalBsmtSF'は 'SalePrice'と線形関係にあるようです。 両者は正の関係です。つまり、一方の変数が増加すると他方の変数も増加します。'TotalBsmtSF'の場合、線形関係の傾きが特に高いことがわかります。\n",
    "* 'OverallQual'と 'YearBuilt'も 'SalePrice'と関連しているようです。 'OverallQual'のケースでは、販売価格が全体の品質とともにどのように上昇するかをボックスプロットで示しています。\n",
    "\n",
    "私たちは4つの変数を分析しましたが、分析する必要がある変数は他にもたくさんあります。 ここでのトリックは、正しい機能（機能選択）の選択であり、機能の複雑な関係の定義（フィーチャ・エンジニアリング）ではないようです。\n",
    "\n",
    "つまり、小麦を籾殻から分離しましょう。"
   ]
  },
  {
   "cell_type": "markdown",
   "metadata": {
    "_cell_guid": "b75e5f62-307b-f5f4-79ac-38815a7a6da4",
    "_uuid": "aa4ed71a6d1003513b4e31adacd0e7a491671f0f"
   },
   "source": [
    "   # 3. 落ち着いてスマートに働く"
   ]
  },
  {
   "cell_type": "markdown",
   "metadata": {
    "_cell_guid": "2ea2f896-48a6-db39-0684-6a029d8fda60",
    "_uuid": "d67e5bf6f2c4b6acb617c4cdcee0dc5c3f79d9b8"
   },
   "source": [
    "今まで私たちは直感に従い、重要であると考えた変数を分析しました。 私たちの分析に客観的な性格を与える努力にもかかわらず、我々の出発点は主観的であったと言わざるを得ない。\n",
    "\n",
    "エンジニアとして、私はこのアプローチに慣れていません。 すべての私の教育は、主観的な風に耐えることができる訓練された心を開発することでした。 それには理由があります。 構造工学で主観的であろうとするほど物事が崩れていくのがわかります。 それは傷つくことがあります。"
   ]
  },
  {
   "cell_type": "markdown",
   "metadata": {
    "_cell_guid": "0eb27879-4f54-6fd7-e07a-156eae1aef7f",
    "_uuid": "4816779faf59b3eebf954c36bb3c85ff7dfc87a9"
   },
   "source": [
    "### 'plasma soup'は\n",
    "\n",
    "「最初はプラズマスープ以外は何もなかった。 私たちの宇宙論の研究の開始時に、これらの短い時間のうちに知られていることは、主に推測です。 しかし科学は、今日の宇宙について知られていることに基づいて、おそらく何が起こったのかを描いたものです。 （出典：http：//umich.edu/~gs265/bigbang.htm）\n",
    "\n",
    "宇宙を探索するために、私たちは「プラズマスープ」を理解するための実用的なレシピから始めます：\n",
    "*相関行列（ヒートマップ形式）。\n",
    "* 'SalePrice'相関行列（ズームヒートマップスタイル）。\n",
    "*最も相関の高い変数間の散布図（ジャガースタイルのように動く）。\n",
    "\n",
    "※相関行列とは相関行列とは、相関係数を並べたものであり、その意味から対称行列になる。 相関係数は、２つの系列の似ている度合いを測る尺度のことで、-1～1の間の値をとる。 ２つの系列は要素が同数でなければならず、系列それぞれをベクトルとみなしたとき、両ベクトルが同じ向き（一方のベクトルを正の定数倍したとき他方のベクトルになる。）\n"
   ]
  },
  {
   "cell_type": "markdown",
   "metadata": {
    "_cell_guid": "06f8d02c-d779-f8fd-7f48-ba3c5166eda8",
    "_uuid": "bf469f1030a8768f73a18e5ad59db43c4241c603"
   },
   "source": [
    "#### 相関行列（ヒートマップ形式）"
   ]
  },
  {
   "cell_type": "markdown",
   "metadata": {},
   "source": [
    "### 下のカーネルはデータセットの相関関係をヒートマップ図で表示\n",
    "\n",
    "https://pandas.pydata.org/pandas-docs/stable/generated/pandas.DataFrame.corr.html\n",
    "１行目はdf_train.corr()でdf_trainの各列間の相関係数を算出し、corrmatに格納  \n",
    "２行目はfigsize=(12, 9)のサイズでプロットされるグラフのサイズを設定  \n",
    "3行目のsns.heatmap()はヒートマップの可視化を行うメソッド"
   ]
  },
  {
   "cell_type": "code",
   "execution_count": null,
   "metadata": {
    "_cell_guid": "4eb7a6ef-adf5-6abf-947d-c95afdc477b8",
    "_execution_state": "idle",
    "_uuid": "5dfee22210f5a126ea34ca6475bb4f365d41317b",
    "collapsed": false
   },
   "outputs": [],
   "source": [
    "#相関行列\n",
    "corrmat = df_train.corr()\n",
    "f, ax = plt.subplots(figsize=(12, 9))\n",
    "sns.heatmap(corrmat, vmax=.8, square=True);"
   ]
  },
  {
   "cell_type": "markdown",
   "metadata": {
    "_cell_guid": "977fb7af-70e1-bfb8-e381-3176ec0321b0",
    "_uuid": "b6eb357b201b4d2a9e81f4373cadb9aeccc2482c"
   },
   "source": [
    "私の意見では、このヒートマップは、「プラズマスープ」とその関係をすばやく概観する最良の方法です。 （ありがとう@seaborn！）  \n",
    "一見すると、私の注意を引く2つの赤い色の四角があります。最初の四角は 'TotalBsmtSF'と '1stFlrSF'変数をさし、2番目の四角は 'Garage * X *'変数を指します。  \n",
    "どちらの場合も、これらの変数間の相関がどの程度重要であるかを示しています。実際、この相関は非常に強く、多重共線性の状況を示唆している可能性があります。もしこれらの変数について考えるならば、それらがほぼ同じ情報を与えているのでｒ多重線形性が実際に発生すると結論付けることができます。ヒートマップはこのような状況を検出するのに最適で、私たちのような機能選択が支配的な問題では、それらは不可欠なツールです。\n",
    "私の注目を集めた別のものは、「SalePrice」の相関関係でした。大声で「Hi」といっているようなすでに知っている「GrLivArea」、「TotalBsmtSF」、「OverallQual」はわかりますが、考慮すべき他の多くの変数も見ることができます。 それが私たちが次にやることです。\n",
    "\n",
    "※多重共線性（multicollinearity）とは： 通称「マルチコ」。 独立変数間に非常に強い相関があったり，一次従属な変数関係がある場合には，解析が不可能（「逆行列が求まりません」というエラーメッセージが出力される）であったり，たとえ結果が求まったとしてもその信頼性は低い。 このような場合に多重共線性があると言われる。"
   ]
  },
  {
   "cell_type": "markdown",
   "metadata": {
    "_cell_guid": "9b557956-df91-bab3-0e8b-d8ffc054470f",
    "_uuid": "6ef7d7b7747807431aa9827046c76bfa3d34ffe1"
   },
   "source": [
    "### 'SalePrice'相関行列（ズームヒートマップスタイル）"
   ]
  },
  {
   "cell_type": "markdown",
   "metadata": {},
   "source": [
    "### 下記のカーネルは'SalePrice'と相関関係が強い上位１０個の要素とのヒートマップ\n",
    "\n",
    "https://pandas.pydata.org/pandas-docs/stable/generated/pandas.Series.nlargest.html\n",
    "\n",
    "'SalePrice'で大きい方から10個の値を取得し、それらに対応する相関係数を取得し、さらにそれらとSalePrice'との相関係数の値を取得しそのインデックスを変数colsに格納\n",
    "２行目はcols内の各インデックスの値の二次元配列を転置し、相関行列にして変数cmに格納  \n",
    "3行目はシーボーンのフォントサイズを１２．５に設定  \n",
    "４行目はヒートマップを変数hmに格納  \n",
    "５行目で表示  "
   ]
  },
  {
   "cell_type": "code",
   "execution_count": null,
   "metadata": {
    "_cell_guid": "bc33db9e-9ee3-6cfe-7643-a2aff5a9234d",
    "_execution_state": "idle",
    "_uuid": "a6ee47c540ce9f3f1d2af6efe0b030e76e3a3f7f",
    "collapsed": false,
    "scrolled": false
   },
   "outputs": [],
   "source": [
    "#saleprice 相関行列\n",
    "k = 10 #　ヒートマップの変数の数\n",
    "cols = corrmat.nlargest(k, 'SalePrice')['SalePrice'].index\n",
    "cm = np.corrcoef(df_train[cols].values.T)\n",
    "sns.set(font_scale=1.25)\n",
    "hm = sns.heatmap(cm, cbar=True, annot=True, square=True, fmt='.2f', annot_kws={'size': 10}, yticklabels=cols.values, xticklabels=cols.values)\n",
    "plt.show()"
   ]
  },
  {
   "cell_type": "markdown",
   "metadata": {
    "_cell_guid": "f5c23b8a-aad9-809f-0fdf-f758f926f5c9",
    "_uuid": "c10a0a0bd55e55822726c78a59ab2bb6d9763f68"
   },
   "source": [
    "私たちのクリスタルボールによると、これらは「SalePrice」と最も関連性のある変数です。これについての私の考えは：  \n",
    "\n",
    "* 'OverallQual'、 'GrLivArea'、 'TotalBsmtSF'は 'SalePrice'と強く相関しています。チェック！\n",
    "* 'GarageCars'と 'GarageArea'は、最も強く相関する変数の一部です。しかし、最後のサブポイントで議論したように、ガレージに収まる車の数はガレージの面積の結果です。  \n",
    "「GarageCars」と「GarageArea」は、双子の兄弟のようなものです。それらを区別することはできません。したがって、分析にはこれらの変数のうちの1つだけが必要です（GarageCarsは 'SalePrice'との相関が強いので残せます）。  \n",
    "* 'TotalBsmtSF'と '1stFloor'も双子の兄弟のようです。 「TotalBsmtSF」は最初の推測が正しかったと言うことができます（読み直して「何を期待できますか？」）。  \n",
    "* 'FullBath'？ 本当に？  \n",
    "* 'TotRmsAbvGrd'と 'GrLivArea'、双子の兄弟。 チェルノブイリのデータセットですか？  \n",
    "*ああ...「YearBuilt」...「YearBuilt」は「SalePrice」と少し相関があるようです。 正直なところ、私は「YearBuilt」について考えることを恐れています。なぜなら、私は、この正当性を得るために時系列分析を少し行うべきだと感じ始めているからです。 私はこれを宿題として残しておきます。  \n",
    "\n",
    "散布図に進んでみましょう。\n"
   ]
  },
  {
   "cell_type": "markdown",
   "metadata": {
    "_cell_guid": "3bdb34db-cf47-d8c8-b857-7031828808ed",
    "_uuid": "28e0b3f8ecee68390a40bd653d7370c20615ad5d"
   },
   "source": [
    "#### 'SalePrice'と相関変数間の散布図（ジャガースタイルのように動く）"
   ]
  },
  {
   "cell_type": "markdown",
   "metadata": {
    "_cell_guid": "f49b1a3a-2edf-d582-e4ed-3b6188675fbc",
    "_uuid": "cbebb4763aa2a977078a1fba424073b3ea1ecd61"
   },
   "source": [
    "あなたが見ようとしているものを準備しましょう。 私はこれらの散布図を初めて見たとき、私は完全に吹き飛ばされたことを告白する必要があります！ 非常に短いスペースで多くの情報を...それは素晴らしいです。 もう一度、@seabornに感謝します！ あなたは私をジャガーのように動かす！"
   ]
  },
  {
   "cell_type": "markdown",
   "metadata": {},
   "source": [
    "### 下記のカーネルは上の図を散布図として表示\n",
    "\n",
    "1行目でSeabornのデフォルトスタイルが適用される  \n",
    "2行目で各カラム名をリストcolsに格納  \n",
    "3行目でcols内のcols内全てのカラム同士の相関関係を表す散布図を作成して表示"
   ]
  },
  {
   "cell_type": "code",
   "execution_count": null,
   "metadata": {
    "_cell_guid": "5a8db5de-d3f9-9a28-f220-bb05d51c53d0",
    "_execution_state": "idle",
    "_uuid": "cdafd230216fd04cc4ecf635967925da0bce9195",
    "collapsed": false
   },
   "outputs": [],
   "source": [
    "#散布図\n",
    "sns.set()\n",
    "cols = ['SalePrice', 'OverallQual', 'GrLivArea', 'GarageCars', 'TotalBsmtSF', 'FullBath', 'YearBuilt']\n",
    "sns.pairplot(df_train[cols], size = 2.5)\n",
    "plt.show();"
   ]
  },
  {
   "cell_type": "markdown",
   "metadata": {},
   "source": [
    "#### <考察>　上のヒートマップの各マス目を散布図として表示している。'OverallQual'、 'GrLivArea'、 'TotalBsmtSF'は全体的に右肩上がりで改めて相関が強いことがわかる"
   ]
  },
  {
   "cell_type": "markdown",
   "metadata": {
    "_cell_guid": "a61d0a23-e5e4-3190-41a7-03a5110dc967",
    "_uuid": "7dd622e414e1fda79d2d1f163b1d30d6c2de15eb"
   },
   "source": [
    "私たちは既にいくつかの主要な図を知っていますが、このメガ散布図は、変数の関係について合理的なアイデアを与えてくれます。\n",
    "面白いと思われる図の1つは、「TotalBsmtSF」と「GrLiveArea」の間のものです。この図では、点が直線のように線を描いていることがわかります。直線はほぼ境界線のように振舞っています。ドットの大部分がそのラインの下にとどまることは、完全に理にかなっています。地下のエリアは上記の居住エリアと同じですが、地上の居住区域よりも大きな地下室面積は期待できません（バンカーを買おうとしている場合を除き）。「SalePrice」と「YearBuilt」に関するプロットもまた私たちに考えさせることがある。「ドットクラウド」の一番下には、指数関数が恥ずかしがり屋のように現れて見えるものもあります（創造的に）。\n",
    "また、最後の年に関するドットのセットがこの制限をあまりにも超えている傾向にあることに注意してください（私はただ価格が今より速くなっていると言いたかった）。\n",
    "さあ、十分なロールシャッハ検査があります。 欠損しているものに進みましょう：欠損データ！"
   ]
  },
  {
   "cell_type": "markdown",
   "metadata": {
    "_cell_guid": "9ce00498-d5e6-9e35-debc-8d507002d461",
    "_uuid": "726efbb348d1022cabb171f622d7b4e01fe8c778"
   },
   "source": [
    "# 4.欠損データ\n",
    "欠落しているデータを考える際の重要な質問：  \n",
    "*欠けているデータはどれくらいの頻度であるのですか？  \n",
    "*欠損データはランダムか、規則性がありますか？  \n",
    "欠落しているデータはサンプルサイズの縮小を意味する可能性があるため、これらの質問に対する答えは実用的な理由から重要です。 これにより、分析を進めることを防止させることができます。 さらに、実質的な観点から、欠損データプロセスに偏りがなく、不都合な真実が隠されていることを確証しなければなりません。"
   ]
  },
  {
   "cell_type": "markdown",
   "metadata": {},
   "source": [
    " ### 下記のカーネルは欠損データを算出\n",
    "1行目は各カラムの欠損データの個数をカウントし降順に並び替えtotalに格納  \n",
    "2行目は各カラムの欠損データの個数を全カラムの欠損データの個数で割った値を降順に並べてpercentに格納し  \n",
    "3行目はtotalとpercentを列方向に連結し、それぞれにkeysキーワードで指定した、'Total', 'Percent'のラベルを追加し、missing_dataに格納\n",
    " 最後に上位20位までを表示"
   ]
  },
  {
   "cell_type": "code",
   "execution_count": null,
   "metadata": {
    "_cell_guid": "ca2f89e7-1c16-c3ae-6fe0-ab4eaf7e52a1",
    "_execution_state": "idle",
    "_uuid": "664e03dc1434fa2c4eb730ea36ab60e37f13cd3f",
    "collapsed": false,
    "scrolled": false
   },
   "outputs": [],
   "source": [
    "#　欠損データ\n",
    "total = df_train.isnull().sum().sort_values(ascending=False)\n",
    "percent = (df_train.isnull().sum()/df_train.isnull().count()).sort_values(ascending=False)\n",
    "missing_data = pd.concat([total, percent], axis=1, keys=['Total', 'Percent'])\n",
    "missing_data.head(20)"
   ]
  },
  {
   "cell_type": "markdown",
   "metadata": {
    "_cell_guid": "42bf6c61-9836-5c25-ff2f-1219e96f60a2",
    "_uuid": "c7607aaf8378eac11a8a8395dcd4a2346c22f5ea"
   },
   "source": [
    "欠損データをどのように処理するかを理解するためにこれを分析してみましょう。　 \n",
    "データの15％以上が欠落している場合は、対応する変数を削除し、それが存在しなかったふりをするべきです。  \n",
    "このことは、これらのケースで欠損データを埋めるためのトリックを試行しないことを意味します。  \n",
    "これによれば、削除すべき一連の変数（「PoolQC」、「MiscFeature」、「Alley」など）があります。  \n",
    "要点は：このデータを失うか？私はそうは思わない。これらの変数はどれも重要ではないようです。ほとんどは家を買うときに考えている側面ではないためだからです（それがデータが欠落している理由かもしれません）。  \n",
    "さらに、変数を詳しく見ると、「PoolQC」、「MiscFeature」、「FireplaceQu」などの変数は外れ値の候補になるので、削除させていただきます。  \n",
    "これによれば残りのケースに関係するものでは、「Garage * X *」変数のデータの欠落数が同じであることがわかります。私は不足しているデータは同じ観測値を参照していると考えています（私はチェックしませんが、5％で5ドル問題で20ドルを使うべきではありません）。ガレージに関する最も重要な情報は「GarageCars」で表現されており、欠落しているデータの5％を話していることを考慮して、前述の「Garage * X *」変数を削除します。同じロジックが 'Bsmt * X *'変数に適用されます。不足しているデータは、観測と同じセット数であると考えています（私はそれをチェックしませんが、それはたったの5％で、5ドルの問題で20ドルを使うべきではありません）。  \n",
    "ガレージに関する最も重要な情報は「GarageCars」で表現されており、紛失したデータの約5％を話しているだけであることを考慮して、前述の「Garage * X *」変数を削除します。同じロジックが 'Bsmt * X *'変数に適用されます。  \n",
    "'MasVnrArea'と 'MasVnrType'に関して、これらの変数は必須ではないと考えることができる。 さらに、彼らはすでに考慮されている 'YearBuilt'と 'OverallQual'と強い相関関係があります。したがって、 'MasVnrArea'と 'MasVnrType'を削除したとしても情報は失われません。\n",
    "最後に、'Electrical'には1つの欠測値があります。 これはただ一つの観測であるため、この観測値を削除して変数を保持します。  \n",
    "要約すると、欠損データを処理するために、変数 'Electrical'を除いて、欠落したデータを含むすべての変数を削除します。'Electrical'では、欠損データの観測値を削除します。\n"
   ]
  },
  {
   "cell_type": "markdown",
   "metadata": {},
   "source": [
    "### 下記のカーネルは欠損データを持つカラムのデータを削除している\n",
    "1行目でmissing_dataのカラム'Total'内で1より大きいデータをもつインデックスを取得し削除後、df_trainを更新  \n",
    "２行目でdf_trainのカラム'Electrical'内にNaNがある行データ削除後、df_trainを更新  \n",
    "最後にdf_trainに欠損データの数をカウント表示"
   ]
  },
  {
   "cell_type": "code",
   "execution_count": null,
   "metadata": {
    "_cell_guid": "f43f72c5-5457-1f47-e8ef-502db4355086",
    "_execution_state": "idle",
    "_uuid": "726617e295ee6bfe26ccf277323cc68ef52dc61b",
    "collapsed": false
   },
   "outputs": [],
   "source": [
    "#欠損データ扱う\n",
    "df_train = df_train.drop((missing_data[missing_data['Total'] > 1]).index,1)\n",
    "df_train = df_train.drop(df_train.loc[df_train['Electrical'].isnull()].index)\n",
    "df_train.isnull().sum().max()   # ちょうど欠損データがないことをチェックしている..."
   ]
  },
  {
   "cell_type": "markdown",
   "metadata": {
    "_cell_guid": "bf77b1ad-c87b-0be1-7adc-02b0186e2c37",
    "_uuid": "402bab0012e6f60f3fd045788d9c60e02e43e46d"
   },
   "source": [
    "# 嘘つき！\n",
    "\n",
    "外れ値も、知っておくべきものです。 どうして？ 外れ値はモデルに著しい影響を与える可能性があり、特定の動作についての洞察を提供する貴重な情報源になる可能性があるからです。\n",
    "\n",
    "外れ値は複雑な主題であり、それはより注意を払う必要がある。 ここでは、「SalePrice」の標準偏差と散布図を簡単に分析します。"
   ]
  },
  {
   "cell_type": "markdown",
   "metadata": {
    "_cell_guid": "06852f05-22e9-6ea3-ae37-c08f83ed401f",
    "_uuid": "39ccb28e64249ea88dc9d04c5c1484734a8e9dcc"
   },
   "source": [
    "### 単変量解析"
   ]
  },
  {
   "cell_type": "markdown",
   "metadata": {
    "_cell_guid": "1553bf55-edb3-7c65-f505-227d34d018fb",
    "_uuid": "1c4f41a45aabef83aab703c4e9c0101db1d3c7f7"
   },
   "source": [
    "ここでの主な関心事は、外れ値としての観測値を定義するしきい値を設定することです。 そのために、データを標準化します。 この文脈において、データ標準化とは、データ値を平均値0および標準偏差1に変換することを意味する。"
   ]
  },
  {
   "cell_type": "markdown",
   "metadata": {},
   "source": [
    "### 下記のカーネルは'SalePrice'を標準化して上位からと下位から10個の要素を取得\n",
    "StandardScaler:  \n",
    "http://scikit-learn.org/stable/modules/generated/sklearn.preprocessing.StandardScaler.html \n",
    "\n",
    "データセットdf_trainからカラム'SalePrice'の配列の次元を一つ増やしたあと標準化して、saleprice_scaledに格納  \n",
    "saleprice_scaledの全行０列データを取得し昇順でソート。インデックス0から９までをスライスしてlow_rangeに格納  \n",
    "saleprice_scaledの全行０列データを取得し昇順でソート。最後から１０個までをスライスしてlow_rangeに格納  \n",
    "\n",
    "それぞれ表示"
   ]
  },
  {
   "cell_type": "code",
   "execution_count": null,
   "metadata": {
    "_cell_guid": "49a133fb-b713-45bd-ca42-c1ca0eb4d3f6",
    "_execution_state": "idle",
    "_uuid": "09b3bc296d01936b3b6df7f3ea670499e926720e",
    "collapsed": false
   },
   "outputs": [],
   "source": [
    "#データを標準化\n",
    "saleprice_scaled = StandardScaler().fit_transform(df_train['SalePrice'][:,np.newaxis]);\n",
    "low_range = saleprice_scaled[saleprice_scaled[:,0].argsort()][:10]\n",
    "high_range= saleprice_scaled[saleprice_scaled[:,0].argsort()][-10:]\n",
    "print('outer range (low) of the distribution:')\n",
    "print(low_range)\n",
    "print('\\nouter range (high) of the distribution:')\n",
    "print(high_range)"
   ]
  },
  {
   "cell_type": "markdown",
   "metadata": {
    "_cell_guid": "4ae8ecbd-3236-7e32-fa2c-9c12a6ba53d3",
    "_uuid": "68d1465ef6f6da48d318868646741072eec73f0b"
   },
   "source": [
    "彼女の新しい服で「SalePrice」がどのように見えるか：\n",
    "\n",
    "*　低範囲の値は似ていて、0からあまり離れていません。\n",
    "*　高範囲の値は0からずっと離れていて、7の値は実際には範囲外です。\n",
    "\n",
    "ここでは、これらの値のいずれも外れ値としては考慮しませんが、これらの2つの値に注意する必要があります。"
   ]
  },
  {
   "cell_type": "markdown",
   "metadata": {
    "_cell_guid": "ae1b038a-9016-1412-bfb8-e2a27022a02f",
    "_uuid": "6b9511771766dbdb72abe83ec3f479c40c08ce6d"
   },
   "source": [
    "### 二変量解析\n",
    "#### ※ ２つの変数を対象に相関関係を解析すること"
   ]
  },
  {
   "cell_type": "markdown",
   "metadata": {
    "_cell_guid": "ed741196-bc75-a4b5-dda9-417b6d8aa52b",
    "_uuid": "a4137453b99017b08ed6d433829e04160b6613d2"
   },
   "source": [
    "私たちはすでに、以下の散布図を心に刻んでいます。 しかし、私たちが新しい視点から物事を見ると、常に何か発見することがあります。 アラン・ケイが「視点の変化はIQ８０に値する。」と言ったように。"
   ]
  },
  {
   "cell_type": "markdown",
   "metadata": {},
   "source": [
    "### 下記のカーネルは'GrLivArea'と'SalePrice'との散布図を作成\n",
    "'GrLivArea'を変数varに代入  \n",
    "データセットdf_train['SalePrice']とdf_train[var]を列方向に連結  \n",
    "x軸に'GrLivArea'、y軸に'SalePrice'をとり散布図を表示"
   ]
  },
  {
   "cell_type": "code",
   "execution_count": null,
   "metadata": {
    "_cell_guid": "a03b5ee8-0701-10f0-2d4c-06fcaf1fada5",
    "_execution_state": "idle",
    "_uuid": "4d3e3941ca62ce141f96d0fd2f3276cd80e03ed3",
    "collapsed": false,
    "scrolled": true
   },
   "outputs": [],
   "source": [
    "#　２変量解析 saleprice/grlivarea\n",
    "var = 'GrLivArea'\n",
    "data = pd.concat([df_train['SalePrice'], df_train[var]], axis=1)\n",
    "data.plot.scatter(x=var, y='SalePrice', ylim=(0,800000));"
   ]
  },
  {
   "cell_type": "markdown",
   "metadata": {
    "_cell_guid": "48c2ad5c-b861-6b33-a292-9d6b7b58b1cc",
    "_uuid": "8ef88aabbea5235f920f0a12eba9cf9f640b5f6d"
   },
   "source": [
    "明らかになったこと：\n",
    "\n",
    "*　大きな「GrLivArea」を持つ2つの値は奇妙に見え、群衆に追いつかない。 なぜこれが起こっているのか推測することができます。 多分彼らは農業地域を指していて、それらが低価格を説明できるだろう。 私ははっきりはわからないが、これら2つの点が典型的な事例を代表するものではないと確信している。 したがって、それらを異常値として定義して削除することにする。\n",
    "\n",
    "*　プロットの上の2つの観測は、我々が注意すべきであると言った7.なんとかの観察である。 彼らは2つの特別なケースのように見えますが、それは傾向に従っているようです。 そのため、私たちはそれらを保管します。\n"
   ]
  },
  {
   "cell_type": "markdown",
   "metadata": {},
   "source": [
    "## 下記のカーネルは 'GrLivArea'の外れ値を削除している"
   ]
  },
  {
   "cell_type": "code",
   "execution_count": null,
   "metadata": {
    "_cell_guid": "63a6517c-431f-c3fe-30cf-61034e54a5cb",
    "_execution_state": "idle",
    "_uuid": "ff34e1e620a89d16ecf35508e40e23b1d7a4771c",
    "collapsed": false
   },
   "outputs": [],
   "source": [
    "#点を削除する\n",
    "df_train.sort_values(by = 'GrLivArea', ascending = False)[:2]\n",
    "df_train = df_train.drop(df_train[df_train['Id'] == 1299].index)\n",
    "df_train = df_train.drop(df_train[df_train['Id'] == 524].index)"
   ]
  },
  {
   "cell_type": "markdown",
   "metadata": {},
   "source": [
    "## 下記のカーネルは'TotalBsmtSF'と'SalePrice'との散布図を作成"
   ]
  },
  {
   "cell_type": "code",
   "execution_count": null,
   "metadata": {
    "_cell_guid": "1d4bf215-19d5-877e-1958-f5713009a94a",
    "_execution_state": "idle",
    "_uuid": "a48108966041d652f9fee571bf9ff08a7c73f6ef",
    "collapsed": false
   },
   "outputs": [],
   "source": [
    "#２変数解析 saleprice/grlivarea\n",
    "var = 'TotalBsmtSF'\n",
    "data = pd.concat([df_train['SalePrice'], df_train[var]], axis=1)\n",
    "data.plot.scatter(x=var, y='SalePrice', ylim=(0,800000));"
   ]
  },
  {
   "cell_type": "markdown",
   "metadata": {
    "_cell_guid": "ff4b9944-30d2-834a-de2f-6ee1b54aefc6",
    "_uuid": "83b610acd7caee0f0ac5e82856bbeb17fb54ceee"
   },
   "source": [
    "いくつかの観測値（たとえばTotalBsmtSF> 3000）を排除したいと思うかもしれませんが、その価値はないと思います。 私たちはそれで生きることができるので、何もしません。"
   ]
  },
  {
   "cell_type": "markdown",
   "metadata": {
    "_cell_guid": "a0b5def9-2709-a643-0ade-2689b6b36dae",
    "_uuid": "283f857f9ac2e1510cd238f59d937132a5492da6"
   },
   "source": [
    "# 5. ハードコアを取得"
   ]
  },
  {
   "cell_type": "markdown",
   "metadata": {
    "_cell_guid": "1b997f3f-c28f-6029-64c9-2d2bfc01077c",
    "_uuid": "f8e75e15ed7cba60c64c44b4fa3ec6737414e218"
   },
   "source": [
    "Ayn Randの小説「Atlas Shrugged」では、頻繁に繰り返される質問が、「John Galtは誰ですか？」だ。この本の大部分は、この質問に対する答えを見つけるための探求です。\n",
    "\n",
    "私は今、ランディアンを感じる。 「SalePrice」は誰ですか？\n",
    "\n",
    "この質問に対する答えは、多変量解析のための統計的根拠の基礎となる仮定をテストすることにある。私たちはすでにデータクリーニングを行い、「SalePrice」について多くのことを発見しました。今度は、「SalePrice」が多変量解析技術を適用するための統計的前提条件をどのように遵守しているかを深く理解しましょう。\n",
    "\n",
    "[Hair et al。 （2013）]（https://amzn.to/2uC3j9p）　では、4つの前提条件がテストされる必要があります。\n",
    "\n",
    "* <b>正規性</b> - 正規性について言えば、データは正規分布のように見えるということです。これはいくつかの統計テストがこれに依存しているため重要です（例：t検定）。\n",
    "　この練習では、「SalePrice」の単変量正規性をチェックします（これは限定的なアプローチです）。単変量正規性は多変量正規性（私たちが望むもの）を保証するものではありませんが、役には立ちます。考慮すべきもう一つの詳細は、大きなサンプル（> 200回の観測）では、正規性はそのような問題ではないということです。しかし、正規性を解くと、他の多くの問題（例えば、分散不均一性）を避けることができ、それがこの分析を行う主要な理由です。\n",
    "\n",
    "* <b>等分散性</b> - 私は正しいと思っています。等分散性とは、従属変数が予測変数の範囲全体で均等な変数のレベルを示す仮定をいう（Hair et al。、2013）（https://amzn.to/2uC3j9p）。　独立変数のすべての値にわたって誤差項を同じにしたいので、等分散性が望ましい。\n",
    "\n",
    "* <b>線型性</b> - 線型性を評価する最も一般的な方法は、散布図を調べて線形パターンを探すことです。パターンが線形でない場合、データ変換を探索する価値があるでしょう。しかし、私たちが見た散布図のほとんどは線形関係を持っているように見えるので、これには立ち入りません。\n",
    "\n",
    "* <b>相関エラーの不在</b> - 定義が示唆するように、相関エラーは、あるエラーが起こった時に別のエラーと相関している。 例えば、ある正のエラーが体系的に負のエラーを起こすと、これらの変数間に関係があることを意味します。 これは時系列で頻繁に発生し、いくつかのパターンは時間に関連しています。 私たちはこれにも関わらないでしょう。 ただし、何かを検出した場合は、その効果を説明できる変数を追加してみてください。 これは相関エラーの最も一般的な解決策です。\n",
    "　\n",
    "　エルヴィスがこの長い説明について何を言っていると思いますか？ 「会話が少し少なく、もう少し行動してください」 おそらく..ところで、エルヴィスの最後の大ヒットは何だった知っていますか？\n",
    " \n",
    " （...）\n",
    "　バスルームの床。"
   ]
  },
  {
   "cell_type": "markdown",
   "metadata": {
    "_cell_guid": "0f1a301d-0c06-548f-540d-124975931e70",
    "_uuid": "2497351eca10510469b27ca8518c5c1510932dc1"
   },
   "source": [
    "### 正規性の探索において"
   ]
  },
  {
   "cell_type": "markdown",
   "metadata": {
    "_cell_guid": "0d4f4ca7-3d4f-99e2-2aa7-1a6a6fc9e62e",
    "_uuid": "b408f24ef2b8fe26e44243fd7b0931a169789cc1"
   },
   "source": [
    "ここでのポイントは非常に無駄のない方法で 'SalePrice'をテストすることです。 私たちはこれに注意を払って行います：\n",
    "\n",
    "* <b>ヒストグラム</b> - 尖度と歪度。\n",
    "* <b>ノーマル確率プロット</b> - データ分布は、正規分布を表す対角線に厳密に従う必要があります。"
   ]
  },
  {
   "cell_type": "markdown",
   "metadata": {},
   "source": [
    "### 下記のカーネルは正規化した'SalePrice'のヒストグラムとカーネル密度推定による確率密度関数を表示している。さらにその下の図では'SalePrice'の散布図をプロットしている。\n",
    "\n",
    "https://seaborn.pydata.org/generated/seaborn.distplot.html"
   ]
  },
  {
   "cell_type": "code",
   "execution_count": null,
   "metadata": {
    "_cell_guid": "99ca9885-9335-411e-9b35-21ff69d312e6",
    "_execution_state": "idle",
    "_uuid": "ad844362305f49c0e199ffe276dd119563d46a72",
    "collapsed": false
   },
   "outputs": [],
   "source": [
    "#ヒストグラムと正規確率分布\n",
    "sns.distplot(df_train['SalePrice'], fit=norm);\n",
    "fig = plt.figure()\n",
    "res = stats.probplot(df_train['SalePrice'], plot=plt)"
   ]
  },
  {
   "cell_type": "markdown",
   "metadata": {
    "_cell_guid": "ad84e765-4e47-2f00-dc09-474bf24c1dee",
    "_uuid": "eb8588ce1dd5cfcdd62a943268fa7d252ca7c447"
   },
   "source": [
    "「SalePrice」は正常ではありません。 「尖り」は、正の歪度を示し、対角線に沿っていません。\n",
    "しかし、すべてが失われません。 簡単なデータ変換で問題を解決できます。 これは統計的な本で学ぶことができるすばらしいものの1つです。正の歪度の場合、通常は対数変換がうまくいきます。 私がこれを発見したとき、私はホグワーツの学生が新しい涼しい呪文を発見したように感じました。\n",
    "\n",
    " '*Avada kedavra!*'"
   ]
  },
  {
   "cell_type": "markdown",
   "metadata": {},
   "source": [
    "### 下記のカーネルは'SalePrice'を対数変換した後、正規化し上図同様にプロットしている。"
   ]
  },
  {
   "cell_type": "code",
   "execution_count": null,
   "metadata": {
    "_cell_guid": "cced5b14-c39d-c847-6dc9-93af3f4b6e6d",
    "_execution_state": "idle",
    "_uuid": "f578838e98e9996b09abbec058200cb18aa38869",
    "collapsed": true
   },
   "outputs": [],
   "source": [
    "#対数変換を適用\n",
    "df_train['SalePrice'] = np.log(df_train['SalePrice'])"
   ]
  },
  {
   "cell_type": "code",
   "execution_count": null,
   "metadata": {
    "_cell_guid": "0e17fba2-3ff2-d6f1-841d-bc2a9746bcc2",
    "_execution_state": "idle",
    "_uuid": "de8366b3ad71c7cb398644766a412bee1d05642f",
    "collapsed": false
   },
   "outputs": [],
   "source": [
    "#変換されたヒストグラムと正規確率分布\n",
    "sns.distplot(df_train['SalePrice'], fit=norm);\n",
    "fig = plt.figure()\n",
    "res = stats.probplot(df_train['SalePrice'], plot=plt)"
   ]
  },
  {
   "cell_type": "markdown",
   "metadata": {
    "_cell_guid": "74131161-b766-8b08-5ae3-0b70688a198a",
    "_uuid": "19b172dfedfef5330c53cc34837d47641a3cf135"
   },
   "source": [
    "完了！ 「GrLivArea」で何が起こっているのか調べてみましょう。"
   ]
  },
  {
   "cell_type": "markdown",
   "metadata": {},
   "source": [
    "### 下記のカーネルは正規化した'GrLivArea'のヒストグラムとカーネル密度推定による確率密度関数を表示している。さらにその下の図では'GrLivArea'の散布図をプロットしている。"
   ]
  },
  {
   "cell_type": "code",
   "execution_count": null,
   "metadata": {
    "_cell_guid": "bda5d77e-07ea-1d16-644c-a850487cc35d",
    "_execution_state": "idle",
    "_uuid": "aa29a3612ee861c42e5d6022ac3a8ad75266b0ee",
    "collapsed": false
   },
   "outputs": [],
   "source": [
    "#ヒストグラムと正規確率分布\n",
    "sns.distplot(df_train['GrLivArea'], fit=norm);\n",
    "fig = plt.figure()\n",
    "res = stats.probplot(df_train['GrLivArea'], plot=plt)"
   ]
  },
  {
   "cell_type": "markdown",
   "metadata": {
    "_cell_guid": "7a8fa54e-46e2-5c09-0a43-0b200ee59874",
    "_uuid": "f452585a30fe3006d4dc993941e826c793044a4b"
   },
   "source": [
    "尖っている味がします... *Avada kedavra!*"
   ]
  },
  {
   "cell_type": "markdown",
   "metadata": {},
   "source": [
    "### 下記のカーネルは'GrLivArea'を対数変換したあと正規化し上図同様にプロット"
   ]
  },
  {
   "cell_type": "code",
   "execution_count": null,
   "metadata": {
    "_cell_guid": "c0fe3abe-cc32-6f2e-0e79-1afd9b49c7ad",
    "_execution_state": "idle",
    "_uuid": "aa428f580e39e498dc06747423955fa714d97952",
    "collapsed": true
   },
   "outputs": [],
   "source": [
    "#データ変換\n",
    "df_train['GrLivArea'] = np.log(df_train['GrLivArea'])"
   ]
  },
  {
   "cell_type": "code",
   "execution_count": null,
   "metadata": {
    "_cell_guid": "0171b317-885d-7092-ade9-d2332b8ea796",
    "_execution_state": "idle",
    "_uuid": "bb004d70d1f260289f864c2ecb5c5dceedc2d6fa",
    "collapsed": false
   },
   "outputs": [],
   "source": [
    "#transformed histogram and normal probability plot\n",
    "sns.distplot(df_train['GrLivArea'], fit=norm);\n",
    "fig = plt.figure()\n",
    "res = stats.probplot(df_train['GrLivArea'], plot=plt)"
   ]
  },
  {
   "cell_type": "markdown",
   "metadata": {
    "_cell_guid": "1686254a-4391-a744-b8ae-653364e216d4",
    "_uuid": "bdd45521276779b330af14f279bf578a9457dac0"
   },
   "source": [
    "Next, please..."
   ]
  },
  {
   "cell_type": "markdown",
   "metadata": {},
   "source": [
    "### 下記のカーネルは'TotalBsmtSF'のデータをヒストグラムとカーネル密度推定による確率密度関数を表示している。さらにその下の図では'TotalBsmtSF'の散布図をプロットしている。"
   ]
  },
  {
   "cell_type": "code",
   "execution_count": null,
   "metadata": {
    "_cell_guid": "4cec452c-ccfd-e65e-2e8b-6c601d3664cd",
    "_execution_state": "idle",
    "_uuid": "b9b1528dcb2a5d1a85c469c69f9df08149fe5ff0",
    "collapsed": false
   },
   "outputs": [],
   "source": [
    "#変換されたヒストグラムと正規確率分布\n",
    "sns.distplot(df_train['TotalBsmtSF'], fit=norm);\n",
    "fig = plt.figure()\n",
    "res = stats.probplot(df_train['TotalBsmtSF'], plot=plt)"
   ]
  },
  {
   "cell_type": "markdown",
   "metadata": {
    "_cell_guid": "8212aea1-70b8-5cdb-1d54-ebad40f3d73e",
    "_uuid": "317120e4f6469692db40bfb8c9c450cf2dc91938"
   },
   "source": [
    "さて、私たちは大ボスを扱っています。 ここには何がありますか？\n",
    "\n",
    "*何かは、一般に、歪度を提示するものです。\n",
    "*価値ゼロの観測（地下のない住宅）がかなり多い\n",
    "*値ゼロでは対数変換を実行できないため大きな問題。\n",
    "\n",
    "ここで対数変換を適用するには、基底（バイナリ変数）を持つか持っていないかでの効果を得るための変数を作成します。 \n",
    "次に、ゼロ以外のすべての観測値に対して対数変換を行い、値ゼロの観測値は無視します。 このようにして、私たちは基底を持つかどうかの影響を失うことなく、データを変換することができます。\n",
    "\n",
    "このアプローチが正しいかどうかはわかりません。 私にとっては正しいと思われました。 それが私が「ハイリスク工学」と呼ぶものです。\n",
    "\n",
    "<b>※対数変換：データxを、任意の値a、bを用いて下式に従い変換すること。\n",
    "$$x \\longmapsto \\log_a (x + b)$$</b>"
   ]
  },
  {
   "cell_type": "markdown",
   "metadata": {},
   "source": [
    "### 下記のカーネルは新しいカラム'HasBsmt'を作成し、df_train['TotalBsmtSF']>0であるものを'HasBsmt'を１に置き換えている。"
   ]
  },
  {
   "cell_type": "code",
   "execution_count": null,
   "metadata": {
    "_cell_guid": "a025f96a-c537-92d5-9187-355cb4f0a520",
    "_execution_state": "idle",
    "_uuid": "5cb8e327f4fd2e4714ec522bdd64c6ed81781652",
    "collapsed": false
   },
   "outputs": [],
   "source": [
    "#　新しい変数でカラムを作成(バイナリカテゴリ機能だから一つで十分)\n",
    "#もし　area>0 ならば1を取得, area==0 ならば0を取得\n",
    "df_train['HasBsmt'] = pd.Series(len(df_train['TotalBsmtSF']), index=df_train.index)\n",
    "df_train['HasBsmt'] = 0 \n",
    "df_train.loc[df_train['TotalBsmtSF']>0,'HasBsmt'] = 1"
   ]
  },
  {
   "cell_type": "markdown",
   "metadata": {},
   "source": [
    "### 'TotalBsmtSF'データを対数変換した値を、新たに 'TotalBsmtSF'データに代入している。"
   ]
  },
  {
   "cell_type": "code",
   "execution_count": null,
   "metadata": {
    "_cell_guid": "9933a45e-93f0-b43f-e7ad-2cb1986570d8",
    "_execution_state": "idle",
    "_uuid": "a7b15dd8a8163ab753ca2aa9e16ed38616bd2d03",
    "collapsed": false,
    "scrolled": false
   },
   "outputs": [],
   "source": [
    "#データ変換\n",
    "df_train.loc[df_train['HasBsmt']==1,'TotalBsmtSF'] = np.log(df_train['TotalBsmtSF'])"
   ]
  },
  {
   "cell_type": "code",
   "execution_count": null,
   "metadata": {
    "_cell_guid": "8a2dc1c6-162d-4b42-8687-046b1ca47511",
    "_execution_state": "idle",
    "_uuid": "f8b1b53558610f9623617fd71a6440439a47e48e",
    "collapsed": false
   },
   "outputs": [],
   "source": [
    "#ヒストグラムと正規確率分布\n",
    "\n",
    "sns.distplot(df_train[df_train['TotalBsmtSF']>0]['TotalBsmtSF'], fit=norm);\n",
    "fig = plt.figure()\n",
    "res = stats.probplot(df_train[df_train['TotalBsmtSF']>0]['TotalBsmtSF'], plot=plt)"
   ]
  },
  {
   "cell_type": "markdown",
   "metadata": {
    "_cell_guid": "78c3c8e5-4ddd-e9ba-6ea8-a23b9d2b21a5",
    "_uuid": "f6f0988bbc48a298177ecc7ec70f2706c72fc1db"
   },
   "source": [
    "### 最初の試行で「等分散性」を正しく書くための検索で"
   ]
  },
  {
   "cell_type": "markdown",
   "metadata": {
    "_cell_guid": "14a0ff01-0d6d-4f3e-c959-0b1039b06439",
    "_uuid": "469987c7961cd885cc4233626426777e2b675466"
   },
   "source": [
    "2つの計量変数の等分散性をテストする最良の方法は、図を用いることです。 等分散からの出発は、円錐（グラフの一方の側に小さな分散、反対側に大きな分散）またはダイヤモンド（分布の中心に多数の点）のような形状によって示される。\n",
    "\n",
    "'SalePrice'と 'GrLivArea'で始まる..."
   ]
  },
  {
   "cell_type": "markdown",
   "metadata": {},
   "source": [
    "### 下記のカーネルは'GrLivArea'と'SalePrice'との散布図を作成"
   ]
  },
  {
   "cell_type": "code",
   "execution_count": null,
   "metadata": {
    "_cell_guid": "a5f13ea7-70af-6a3d-bff1-84a696972e59",
    "_execution_state": "busy",
    "_uuid": "d6db45dbc22abfcdaf49be23f70e6b8f4ca4c13b",
    "collapsed": false,
    "scrolled": false
   },
   "outputs": [],
   "source": [
    "#　散布図\n",
    "plt.scatter(df_train['GrLivArea'], df_train['SalePrice']);"
   ]
  },
  {
   "cell_type": "markdown",
   "metadata": {
    "_cell_guid": "522a6dc2-291a-807b-8fe9-3aa335dbd79d",
    "_uuid": "aed0d40afac41960d6409e9ea4ff9cd3d484ae86"
   },
   "source": [
    "この散布図の以前のバージョン（対数変換の前）は円錐形をしていました（ 'SalePriceと相関変数の間の散布図を確認してください（ジャガースタイルのように動く）'）。 ご覧のように、現在の散布図はもはや円錐形をしていません。 それが正規性の力です！ いくつかの変数の正規性を保証するだけで、我々は等分散問題を解決しました。\n",
    "\n",
    "次に、 'SalePrice'と 'TotalBsmtSF'を確認しましょう。"
   ]
  },
  {
   "cell_type": "markdown",
   "metadata": {},
   "source": [
    "### 下記のカーネルは'TotalBsmtSF'と'SalePrice'との散布図を作成"
   ]
  },
  {
   "cell_type": "code",
   "execution_count": null,
   "metadata": {
    "_cell_guid": "d5a6cecd-4f33-5afe-2c95-9459da03091f",
    "_execution_state": "idle",
    "_uuid": "45cdf80ae7cf8bf1d5d62ff09f6e9b106047cafb",
    "collapsed": false
   },
   "outputs": [],
   "source": [
    "#散布図\n",
    "plt.scatter(df_train[df_train['TotalBsmtSF']>0]['TotalBsmtSF'], df_train[df_train['TotalBsmtSF']>0]['SalePrice']);"
   ]
  },
  {
   "cell_type": "markdown",
   "metadata": {
    "_cell_guid": "38a2af07-61d9-bc63-e78d-f88fd8bd03dc",
    "_uuid": "612394fe6ca03c21a96019cb72bd64966d05066e"
   },
   "source": [
    "一般的に、「SalePrice」は、「TotalBsmtSF」の範囲で均等な分散レベルを示すと言えます。\n",
    "\n",
    "クール！"
   ]
  },
  {
   "cell_type": "markdown",
   "metadata": {
    "_cell_guid": "56d7b15d-aaa1-0aaf-875b-8d914f4983dd",
    "_uuid": "9957d2bc81d7c1f694314495b923469be3428bbf"
   },
   "source": [
    "# 最後に、ダミー変数"
   ]
  },
  {
   "cell_type": "markdown",
   "metadata": {
    "_cell_guid": "b782af0e-c785-0fbb-de2d-1301b53ba729",
    "_uuid": "4603fc4c5a9b54139d7d0b598b5afbad66ad4b2e"
   },
   "source": [
    "簡単モード"
   ]
  },
  {
   "cell_type": "code",
   "execution_count": null,
   "metadata": {
    "_cell_guid": "06dfd6a2-f613-01e8-b7d0-2672dfd41db8",
    "_execution_state": "idle",
    "_uuid": "0f697a3a1949c3d9b86e9c38b11628d3f8bdc138",
    "collapsed": true
   },
   "outputs": [],
   "source": [
    "#　カテゴリ変数をダミーに変換する\n",
    "df_train = pd.get_dummies(df_train)"
   ]
  },
  {
   "cell_type": "markdown",
   "metadata": {
    "_cell_guid": "92018f8f-4782-5a0c-9fee-f657b6331ffd",
    "_uuid": "38631001da379277b3ae8cbc78504546a23a810d"
   },
   "source": [
    "# 結論"
   ]
  },
  {
   "cell_type": "markdown",
   "metadata": {
    "_cell_guid": "95c93455-85f4-e0a4-3d3a-8365bcf750e0",
    "_uuid": "c05bfefad3b6084b9a7314ab87e5d9ae54af5ba1"
   },
   "source": [
    "これでおしまい！ 私たちは演習の最後に到達しました。\n",
    "\n",
    "このカーネル全般で、[Hair et al。 （2013）]（https://amzn.to/2uC3j9p）　で提供された多くの戦略を実践した。我々は変数を哲学し、「SalePrice」のみを分析し、最も相関のある変数を用いて欠損データと外れ値を処理し、いくつかの基本的な統計的仮説をテストし、カテゴリー変数をダミー変数に変換した。 これは、Pythonによって私たちは大変助けられ簡単に作業できた。\n",
    "\n",
    "しかし、探求は終わっていない。 私たちの話はFacebookの研究で止まったことを忘れないで。 今度は、「SalePrice」に電話をかけて、彼女を夕食に招待しましょう。 彼女の行動を予測してみてください。 あなたは彼女が正則化線形回帰アプローチを楽しんでいる女の子だと思いますか？ それとも、彼女がアンサンブルの方法を好むと思いますか？ それとも別の何か？\n",
    "\n",
    "見つけ出すのはあなた次第です。"
   ]
  },
  {
   "cell_type": "markdown",
   "metadata": {
    "_cell_guid": "f29b0f7c-5f02-e28b-fc3b-c161fde831aa",
    "_uuid": "69dd52ff366c69a33a1aabe58e9f6718ba7a73b3"
   },
   "source": [
    "# <b>参照</b>\n",
    "* [My blog](http://pmarcelino.com)\n",
    "* [My other kernels](https://www.kaggle.com/pmarcelino/data-analysis-and-feature-extraction-with-python)\n",
    "* [Hair et al., 2013, Multivariate Data Analysis, 7th Edition](https://amzn.to/2uC3j9p)"
   ]
  },
  {
   "cell_type": "markdown",
   "metadata": {
    "_cell_guid": "2f6375aa-89c3-d6d1-6acb-288eab8b24f5",
    "_uuid": "06c7675e062996ed0f706776afacc2138bf5ed63"
   },
   "source": [
    "# 謝辞\n",
    "この原稿を読んでくれたJoão Rico(https://www.linkedin.com/in/joaomiguelrico/) に感謝します。\n"
   ]
  },
  {
   "cell_type": "code",
   "execution_count": null,
   "metadata": {
    "collapsed": true
   },
   "outputs": [],
   "source": []
  }
 ],
 "metadata": {
  "_change_revision": 0,
  "_is_fork": false,
  "kernelspec": {
   "display_name": "Python 3",
   "language": "python",
   "name": "python3"
  },
  "language_info": {
   "codemirror_mode": {
    "name": "ipython",
    "version": 3
   },
   "file_extension": ".py",
   "mimetype": "text/x-python",
   "name": "python",
   "nbconvert_exporter": "python",
   "pygments_lexer": "ipython3",
   "version": "3.6.0"
  }
 },
 "nbformat": 4,
 "nbformat_minor": 1
}
