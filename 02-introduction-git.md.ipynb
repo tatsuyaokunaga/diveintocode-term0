{
 "cells": [
  {
   "cell_type": "markdown",
   "metadata": {},
   "source": [
    "# Gitとは"
   ]
  },
  {
   "cell_type": "markdown",
   "metadata": {},
   "source": [
    "Gitとは、プログラムのソースコードなどの変更履歴を記録・追跡するための分散型バージョン管理システムのこと。\n",
    "バージョン管理システムとは、コンピュータ上で作成、編集されるファイルの変更履歴を管理するためのシステムのこと。\n",
    "Gitは開発現場、研究機関などで、コードを管理する際にかなり高頻度で使用されている。\n",
    "Gitと類似したソフトウェアはフリーソフトウエアでは、以下の通り。\n",
    "* GNU arch - 分散型。C言語、シェルスクリプトで実装している。\n",
    "* Bazaar - 分散型。Pythonで実装している。\n",
    "* CVS - 集中型。C言語で実装している。\n",
    "* GNU CSSC - SCCSのクローン。もうほとんど使われていない。\n",
    "* Darcs - 分散型。Haskellで実装している。\n",
    "* Mercurial - 分散型。Python、C言語で実装している。\n",
    "* Monotone - 分散型。C++で実装している。\n",
    "* RCS - Revision Control System。C言語で実装している。\n",
    "* Subversion - 集中型。CVSの改良版という位置づけ。C言語で実装している。\n",
    "* Veracity - 分散型。C言語とJavascriptで実装している。Apache License。\n",
    "\n",
    "Gitのメリットとして以下が挙げられる。\n",
    "\n",
    "* 変更内容を把握できる\n",
    "* 変更内容の間の差分を把握できる\n",
    "* 過去の状態に戻すことができる\n",
    "* 他人が編集した内容を間違って上書きしないで済む"
   ]
  },
  {
   "cell_type": "markdown",
   "metadata": {},
   "source": [
    "# git init"
   ]
  },
  {
   "cell_type": "markdown",
   "metadata": {},
   "source": [
    "Gitのリポジトリ（ファイルやディレクトリの状態を管理する領域）を新たに作成するためのコマンド。また、すでにリポジトリがある場合には実行すると再初期化される。git initコマンドを実行したディレクトリ内には、.gitディレクトリが作成され、ここにデータが格納されていく。"
   ]
  },
  {
   "cell_type": "markdown",
   "metadata": {},
   "source": [
    "#  git add"
   ]
  },
  {
   "cell_type": "markdown",
   "metadata": {},
   "source": [
    "レポジトリにファイルやディレクトリの変更内容を記録するためには、コミットする必要がある。そのためにはあらかじめ、コミットしたいファイルやディレクトリを登録する必要があるが、その実行コマンドがgit addである。また登録する場所のことを、ステージング領域（エリア）という。またはインデックスとも呼ばれる。\n",
    "\n",
    "hoge.htmlをステージング領域に追加するコマンドは以下の通り。\n",
    "$ git add hoge.html\n",
    "\n",
    "上記ステージング領域に追加されたhoge.htmlをステージング領域から削除する方法はいかの通り。\n",
    "\n",
    " $ git reset hoge.html\n",
    " \n",
    " "
   ]
  },
  {
   "cell_type": "markdown",
   "metadata": {},
   "source": [
    "# git commit"
   ]
  },
  {
   "cell_type": "markdown",
   "metadata": {},
   "source": [
    " ステージング領域に登録されているファイルやディレクトリの変更履歴などをレポジトリに記録するコマンド。\n",
    "コミットのログを確認するには、git logコマンドを使用する。このコマンドを使うことによって、誰が・いつ・なにを変更したか確認することができる。\n",
    "コミットを取り消す方法には「git reset」を使う。「git reset」には「git reset --soft」と「git reset --hard」の２種類がある。\n",
    "\n",
    "「git reset --soft」→ワークディレクトリの内容はそのままでコミットだけを取り消す。\n",
    "\n",
    "「git reset --hard→コミットを取り消した上でワークディレクトリの内容も書き換える。\n",
    "\n",
    "直前のコミットを取り消したい場合は、一つ前のコミットの意味を持つ「HEAD^」をつけて「git reset --soft　HEAD^」などと使用する。もしくは「HEAD^」の代わりに、戻るコミットのハッシュ値を指定する。\n",
    "\n",
    "直前のコミットではなく、過去のコミットを削除する方法は「git rebase -i [commit]」コマンドを使用。\n",
    "\n",
    "以下のコミット履歴があった場合、\n",
    "\n",
    "```\n",
    "commit c4a9f6aad4ea6f5b372b9bc742c1dfc06b8641f1 (HEAD -> master, origin/master, origin/HEAD)\n",
    "Author: Akihiro Nakao <nakao@diveintocode.jp>\n",
    "Date:   Wed Mar 21 16:42:30 2018 +0900\n",
    "\n",
    "    commit message 3\n",
    "\n",
    "commit cff10b7231c5238cbd7ddab0bc19c3b7f02ba35d\n",
    "Author: Akihiro Nakao <nakao@diveintocode.jp>\n",
    "Date:   Wed Mar 21 16:40:31 2018 +0900\n",
    "\n",
    "    commit message 2\n",
    "\n",
    "commit 7b6f15fdde0f56dae4541a1a896ef6dca630e28f\n",
    "Author: Akihiro Nakao <genn777f3@gmail.com>\n",
    "Date:   Fri Feb 23 19:38:22 2018 +0900\n",
    "\n",
    "    commit message 1\n",
    "    \n",
    " ```\n",
    " \n",
    " commit message 1までコミットを戻す方法は、以下のコマンドを使用する。\n",
    " \n",
    " \n",
    "```\n",
    " $ git reset --soft  7b6f15fdde0f56dae4541a1a896ef6dca630e28f\n",
    " ```\n",
    "\n",
    " "
   ]
  },
  {
   "cell_type": "code",
   "execution_count": null,
   "metadata": {},
   "outputs": [],
   "source": []
  }
 ],
 "metadata": {
  "kernelspec": {
   "display_name": "Python 3",
   "language": "python",
   "name": "python3"
  },
  "language_info": {
   "codemirror_mode": {
    "name": "ipython",
    "version": 3
   },
   "file_extension": ".py",
   "mimetype": "text/x-python",
   "name": "python",
   "nbconvert_exporter": "python",
   "pygments_lexer": "ipython3",
   "version": "3.6.3"
  }
 },
 "nbformat": 4,
 "nbformat_minor": 2
}
